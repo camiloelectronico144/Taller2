{
 "cells": [
  {
   "cell_type": "markdown",
   "id": "186039a5",
   "metadata": {},
   "source": [
    "# Michelangelo's  CAMILO NARVAEZ ID:000428856\n",
    "\n",
    "Su amigo Chocolove McDonell le comenta que inauguró un nuevo restaurante llamado _Michelangelo's_, el cual se especializa en comida italiana. Como dueño del negocio, Chocolove quiere evaluar la rentabilidad de su negocio, pero no es muy bueno sacando cuentas, razón por la que acude a usted por ayuda. \n",
    "\n",
    "El menú del restaurante es el siguiente:\n",
    "> - Carpaccio... `$ 31.500`\n",
    "> - Polenta... `$ 31.500`\n",
    "> - Panna Cotta... `$ 32.000` \n",
    "> - Macchiato... `$ 12.500` \n",
    "> - Latte... `$ 18.000`\n",
    "> - Cappuccino... `$ 19.500` \n",
    "> - Espresso... `$ 21.500` \n",
    "> - Lasagna... `$ 29.000` \n",
    "> - Risotto... `$ 35.500` \n",
    "> - Gnocchi... `$ 56.500` \n",
    "> - Ravioli... `$ 63.500` \n",
    "\n",
    "Chocolove lleva anotaciones de las ventas realizadas durante la primera semana en un pequeño cuaderno, indicando la fecha y los platos servidos. Le ha compartido la siguientes imágenes:\n",
    "\n",
    "<img src=\"ventas_p1.jpg\" style=\"max-height:400px\">\n",
    "<img src=\"ventas_p2.jpg\" style=\"max-height:400px\">\n",
    "\n",
    "**Tip**: Descarga las imágenes de la carpeta del repositorio para observar el texto con mayor facilidad."
   ]
  },
  {
   "cell_type": "markdown",
   "id": "f1bf1910",
   "metadata": {},
   "source": [
    "## Taller 1: Listas y Ciclos"
   ]
  },
  {
   "cell_type": "markdown",
   "id": "29ad8ea4",
   "metadata": {},
   "source": [
    "### Menú"
   ]
  },
  {
   "cell_type": "markdown",
   "id": "2797b589",
   "metadata": {},
   "source": [
    "Crea una lista llamada `menu` que contenga los elementos del menú de Michelangelo's."
   ]
  },
  {
   "cell_type": "code",
   "execution_count": null,
   "id": "3cb128e4",
   "metadata": {},
   "outputs": [],
   "source": [
    "menu = ['Carpaccio', 'Polenta', 'Panna Cotta', 'Macchiato', 'Latte', 'Cappuccino', 'Espresso', 'Lasagna', 'Risotto', \n",
    "        'Gnocchi', 'Ravioli']"
   ]
  },
  {
   "cell_type": "markdown",
   "id": "9c242dcf",
   "metadata": {},
   "source": [
    "Crea una lista llamada `prices` que contenga los precios de los elementos del menú de Michelangelo's. El orden de los precios debe corresponder con el orden de los platos en la lista `menu`."
   ]
  },
  {
   "cell_type": "code",
   "execution_count": null,
   "id": "2c648e26",
   "metadata": {},
   "outputs": [],
   "source": [
    "prices = [31500, 31500, 32000, 12500, 18000, 19500, 21500, 29000, 35500, 56500, 63500] "
   ]
  },
  {
   "cell_type": "markdown",
   "id": "db730bc8",
   "metadata": {},
   "source": [
    "Crea una variable llamada `avg_prc` que almacene el valor del precio promedio de los productos vendidos en Michelangelo's.\n",
    "\n",
    "**Tip**: utiliza la lista `prices` y ciclos para calcular este valor. "
   ]
  },
  {
   "cell_type": "code",
   "execution_count": null,
   "id": "8d1e899a",
   "metadata": {},
   "outputs": [],
   "source": [
    "avg_prc = 0\n",
    "for price in prices:\n",
    "    avg_prc += price\n",
    "avg_prc /= len(prices)\n",
    "print(f'Precio Promedio: ${avg_prc:.2f}')"
   ]
  },
  {
   "cell_type": "markdown",
   "id": "08393c0c",
   "metadata": {},
   "source": [
    "### Ventas"
   ]
  },
  {
   "cell_type": "markdown",
   "id": "97c049c0",
   "metadata": {},
   "source": [
    "Crea una lista para cada día de la semana que contenga los productos vendidos por Michelangelo's. Nombra las variables de la siguiente forma:\n",
    "- `monday`: lista con las ventas del lunes, 16 de enero de 2023\n",
    "- `tuesday`: lista con las ventas del martes, 17 de enero de 2023\n",
    "- `wednesday`: lista con las ventas del miércoles, 18 de enero de 2023\n",
    "- `thursday`: lista con las ventas del jueves, 19 de enero de 2023\n",
    "- `friday`: lista con las ventas del viernes, 20 de enero de 2023\n",
    "- `saturday`: lista con las ventas del sábado, 21 de enero de 2023\n",
    "- `sunday`: lista con las ventas del domingo, 22 de enero de 2023"
   ]
  },
  {
   "cell_type": "code",
   "execution_count": null,
   "id": "f2b38aa6",
   "metadata": {},
   "outputs": [],
   "source": [
    "monday_i = [7, 1, 9, 1, 10, 9, 5, 8]\n",
    "monday = []\n",
    "for index in monday_i:\n",
    "    monday.append(menu[index])\n",
    "print(f'Lunes: {monday}\\n')\n",
    "\n",
    "tuesday_i = [8, 10, 8, 7, 0, 6, 2, 9, 9]\n",
    "tuesday = []\n",
    "for index in tuesday_i:\n",
    "    tuesday.append(menu[index])\n",
    "print(f'Martes: {tuesday}\\n')\n",
    "\n",
    "wednesday_i = [5, 7, 5, 0, 10, 1, 1, 0, 6, 7, 8, 0]\n",
    "wednesday = []\n",
    "for index in wednesday_i:\n",
    "    wednesday.append(menu[index])\n",
    "print(f'Miércoles: {wednesday}\\n')\n",
    "\n",
    "thursday_i = [4, 8, 8, 0, 9, 1, 6, 4, 10]\n",
    "thursday = []\n",
    "for index in thursday_i:\n",
    "    thursday.append(menu[index])\n",
    "print(f'Jueves: {thursday}\\n')\n",
    "\n",
    "friday_i = [6, 9, 9, 5, 9, 2]\n",
    "friday = []\n",
    "for index in friday_i:\n",
    "    friday.append(menu[index])\n",
    "print(f'Viernes: {friday}\\n')\n",
    "\n",
    "saturday_i = [8, 0, 3, 5, 8, 1, 2, 10, 3, 2, 4, 4, 9]\n",
    "saturday = []\n",
    "for index in saturday_i:\n",
    "    saturday.append(menu[index])\n",
    "print(f'Sábado: {saturday}\\n')\n",
    "\n",
    "sunday_i = [1, 1, 6, 10, 8, 3]\n",
    "sunday = []\n",
    "for index in sunday_i:\n",
    "    sunday.append(menu[index])\n",
    "print(f'Domingo: {sunday}\\n')"
   ]
  },
  {
   "cell_type": "markdown",
   "id": "0727bc22",
   "metadata": {},
   "source": [
    "Calcula el valor total de las ventas para cada día de la semana. Almacena el valor de las ventas en las siguientes variables:\n",
    "- `total_monday`: variable con el valor total de las ventas del día lunes\n",
    "- `total_tuesday`: variable con el valor total de las ventas del día martes\n",
    "- `total_wednesday`: variable con el valor total de las ventas del día miércoles\n",
    "- `total_thursday`: variable con el valor total de las ventas del día jueves\n",
    "- `total_friday`: variable con el valor total de las ventas del día viernes\n",
    "- `total_saturday`: variable con el valor total de las ventas del día sábado\n",
    "- `total_sunday`: variable con el valor total de las ventas del día domingo\n",
    "\n",
    "**Tip**: utiliza ciclos y las listas de los días de la semana. También puedes usar el método `.index()` para obtener el índice de un elemento en una lista."
   ]
  },
  {
   "cell_type": "code",
   "execution_count": null,
   "id": "0d6e0781",
   "metadata": {},
   "outputs": [],
   "source": [
    "days = [monday, tuesday, wednesday, thursday, friday, saturday, sunday]\n",
    "days_labels = [\"monday\", \"tuesday\", \"wednesday\", \"thursday\", \"friday\", \"saturday\", \"sunday\"]\n",
    "days_total = []\n",
    "day_i = 0\n",
    "for day in days:\n",
    "    total_day = 0\n",
    "    for dish in day:\n",
    "        total_day +=  prices[menu.index(dish)]\n",
    "    days_total.append(total_day)\n",
    "    print(f'Total {days_labels[day_i]}: ${total_day}')    \n",
    "    day_i += 1"
   ]
  },
  {
   "cell_type": "markdown",
   "id": "3cc13c70",
   "metadata": {},
   "source": [
    "¿Cuál es valor total de las ventas de Michelangelo's durante su primera semana?"
   ]
  },
  {
   "cell_type": "code",
   "execution_count": null,
   "id": "c8d1500f",
   "metadata": {},
   "outputs": [],
   "source": [
    "print(f'Total: ${sum(days_total)}')"
   ]
  },
  {
   "cell_type": "markdown",
   "id": "7a5f7221",
   "metadata": {},
   "source": [
    "## Análisis de Problema 1: Funciones y Diccionarios"
   ]
  },
  {
   "cell_type": "markdown",
   "id": "022db89e",
   "metadata": {},
   "source": [
    "Inicialmente realizamos una copia de los platos contenidos en el menú en una nueva variable:"
   ]
  },
  {
   "cell_type": "code",
   "execution_count": null,
   "id": "91ff5129",
   "metadata": {},
   "outputs": [],
   "source": [
    "dishes = menu.copy()\n",
    "print(dishes)"
   ]
  },
  {
   "cell_type": "markdown",
   "id": "f8587f1a",
   "metadata": {},
   "source": [
    "Creamos un diccionario llamando `menu` que contiene los platos y sus respectivos precios:"
   ]
  },
  {
   "cell_type": "code",
   "execution_count": null,
   "id": "52edfb49",
   "metadata": {},
   "outputs": [],
   "source": [
    "menu = {key:value for key, value in zip(dishes, prices)}\n",
    "\n",
    "for dish, price in menu.items():\n",
    "    print(f\"{dish}... ${price}\")"
   ]
  },
  {
   "cell_type": "markdown",
   "id": "7bb1003e",
   "metadata": {},
   "source": [
    "Creamos un diccionario de ventas en el que asociamos las fechas con los platos vendidos en esa fecha:"
   ]
  },
  {
   "cell_type": "code",
   "execution_count": null,
   "id": "88728d3c",
   "metadata": {},
   "outputs": [],
   "source": [
    "dates = [\"2023/01/16\", \"2023/01/17\", \"2023/01/18\",\n",
    "         \"2023/01/19\", \"2023/01/20\", \"2023/01/21\", \"2023/01/22\"]\n",
    "sales = {key:value for key, value in zip(dates, days)}\n",
    "\n",
    "for date, dishes_in_date in sales.items():\n",
    "    print(f\"{date}: {dishes_in_date}\")"
   ]
  },
  {
   "cell_type": "markdown",
   "id": "bcf32868",
   "metadata": {},
   "source": [
    "### Agregar Ventas"
   ]
  },
  {
   "cell_type": "markdown",
   "id": "f85a7b79",
   "metadata": {},
   "source": [
    "Esta función se encarga de agregar ventas dependiendo de la fecha en la que esta se realizó. Los datos son almacenados en el diccionario `sales`. \n",
    "\n",
    "La función requiere también ingresar una fecha y un plato. \n",
    "Lo primero que hacemos es verificar que el plato existe en nuestro menú, utilizando la copia de los platos originales, `dishes`. \n",
    "\n",
    "Si el plato existe, verificamos la fecha ingresada. Si la fecha no existe, creamos una nueva lista con nuestro plato como único elemento de lista para la nueva fecha. Si la fecha existe, agregamos el plato a la lista existente. "
   ]
  },
  {
   "cell_type": "code",
   "execution_count": null,
   "id": "f2a1b22c",
   "metadata": {},
   "outputs": [],
   "source": [
    "def add_sale(sales, date, dish):\n",
    "    if dish not in dishes:\n",
    "        print(\"Dish is not in menu.\")\n",
    "    else:\n",
    "        if date not in sales:\n",
    "            sales[date] = [dish]\n",
    "        else:\n",
    "            sales[date].append(dish)\n",
    "        print(f\"Dish \\\"{dish}\\\" added sucessfully.\")"
   ]
  },
  {
   "cell_type": "markdown",
   "id": "8219237d",
   "metadata": {},
   "source": [
    "#### Verificación `add_sale`"
   ]
  },
  {
   "cell_type": "code",
   "execution_count": null,
   "id": "9fb1a96d",
   "metadata": {},
   "outputs": [],
   "source": [
    "date = \"2023/01/22\"\n",
    "dish = \"Lasagna\"\n",
    "print(f\"Ventas del {date}: {sales[date]}\")\n",
    "print(\"-\"*10)\n",
    "add_sale(sales, date, dish)\n",
    "print(\"-\"*10)\n",
    "print(f\"Ventas del {date} (después de agregar): {sales[date]}\")"
   ]
  },
  {
   "cell_type": "markdown",
   "id": "9b571d21",
   "metadata": {},
   "source": [
    "### Calcular total ventas por fecha"
   ]
  },
  {
   "cell_type": "markdown",
   "id": "5db596f8",
   "metadata": {},
   "source": [
    "En esta función debemos verificar la existencia de la fecha. Si no existe, podríamos arrojar un valor indicando que no se ha vendio nada. Si la fecha existe, podemos iterar a través de los elementos de la lista correspondiente a la fecha en nuestro diccionario `sales`, y luego sumar sus precios usando el diccionario `menu`."
   ]
  },
  {
   "cell_type": "code",
   "execution_count": null,
   "id": "362fa87e",
   "metadata": {},
   "outputs": [],
   "source": [
    "def calculate_total_date(sales, date):\n",
    "    total = 0\n",
    "    if date not in sales:\n",
    "        print(\"Date does not exist.\")\n",
    "    else:\n",
    "        sales_date = sales[date]\n",
    "        for sale in sales_date:\n",
    "            total += menu[sale]\n",
    "    return total"
   ]
  },
  {
   "cell_type": "markdown",
   "id": "ddcf367e",
   "metadata": {},
   "source": [
    "#### Verificación `calculate_total_date`"
   ]
  },
  {
   "cell_type": "code",
   "execution_count": null,
   "id": "bee3fab8",
   "metadata": {},
   "outputs": [],
   "source": [
    "date = \"2023/01/16\"\n",
    "print(f\"Total ventas en fecha {date}: ${calculate_total_date(sales, date)}\")"
   ]
  },
  {
   "cell_type": "markdown",
   "id": "66c09174",
   "metadata": {},
   "source": [
    "### Calcular ventas totales"
   ]
  },
  {
   "cell_type": "markdown",
   "id": "d4085cca",
   "metadata": {},
   "source": [
    "Utilizando la función `calculate_total_date`, podemos agregar las ventas por fecha y totalizar."
   ]
  },
  {
   "cell_type": "code",
   "execution_count": null,
   "id": "b0b9c33a",
   "metadata": {},
   "outputs": [],
   "source": [
    "def calculate_total_sales(sales):\n",
    "    total = 0\n",
    "    for day in sales:\n",
    "        total += calculate_total_date(sales, day)\n",
    "    return total"
   ]
  },
  {
   "cell_type": "markdown",
   "id": "94a2757d",
   "metadata": {},
   "source": [
    "#### Verificación `calculate_total_sales`"
   ]
  },
  {
   "cell_type": "code",
   "execution_count": null,
   "id": "d06a3c06",
   "metadata": {},
   "outputs": [],
   "source": [
    "print(f\"Total ventas: ${calculate_total_sales(sales)}\")"
   ]
  },
  {
   "cell_type": "markdown",
   "id": "c0229a0c",
   "metadata": {},
   "source": [
    "## Taller 2: Clases y Objetos"
   ]
  },
  {
   "cell_type": "markdown",
   "id": "2862208a",
   "metadata": {},
   "source": [
    "Después de un análisis de ventas, así como recomendaciones de clientes y amigos, Chocolove ha decidido reducir el menú del restaurante y modificar los precios de los platos, añadiendo una descripción y categoría para que las personas se familiaricen con sus productos. A continuación, se presenta el nuevo menú de Michelangelo's:\n",
    "\n",
    "****\n",
    "\n",
    "- Platos Fuertes:\n",
    "    - Lasagna \n",
    "        - Precio: `$ 29.500`\n",
    "        - Descripción: Plato tradicional de la cocina italiana que se prepara con láminas de pasta superpuestas, rellenas de alguna salsa que usualmente contiene carne y queso.\n",
    "    - Risotto \n",
    "        - Precio:  `$ 35.500`\n",
    "        - Descripción: Plato cuyo ingrediente principal es el arroz, que se cocina mezclándolo con queso, generalmente parmesano, caldo y otros ingredientes; es un plato típico del norte de Italia.\n",
    "- Bebidas Calientes:\n",
    "    - Macchiato \n",
    "        - Precio: `$ 15.500`\n",
    "        - Descripción: Tipo de café hecho con espresso con un chorrito de leche espumosa al vapor.\n",
    "    - Latte \n",
    "        - Precio: `$ 16.500`\n",
    "        - Descripción: Tipo de café hecho con espresso y leche caliente al vapor, con más leche que un Cappuccino.\n",
    "    - Cappuccino \n",
    "        - Precio: `$ 17.500`\n",
    "        - Descripción: Tipo de café hecho con espresso y leche que ha sido espumada con vapor a presión.\n",
    "- Postres:\n",
    "    - Panna Cotta \n",
    "        - Precio: `$ 25.500`\n",
    "        - Descripción: Postre típico de la región italiana del Piamonte, elaborado a partir de crema de leche o nata, azúcar y gelificantes, que se suele adornar con mermeladas de frutas rojas. Recuerda al flan, pero su sabor es más lácteo con una textura más suave que el flan.\n",
    "    - Espresso \n",
    "        - Precio: `$ 18.500`\n",
    "        - Descripción: Tipo de café negro fuerte hecho forzando vapor a través de granos de café molidos.\n",
    "\n",
    "****        \n",
    "\n",
    "Chocolove también le ha manifestado su interés en expandir su negocio en caso de que este modelo funcione, por lo cual le consulta si existe una manera de analizar varios restaurantes, cada uno con su propio menú y ventas independientes. Teniendo en cuenta lo anterior, a continuación se propone el diseño de clases y objetos para gestionar los platos y restaurantes de Chocolove."
   ]
  },
  {
   "cell_type": "markdown",
   "id": "f092b1c3",
   "metadata": {},
   "source": [
    "### Dishes\n",
    "\n",
    "Crea una clase llamada `dishes` que tenga las siguientes características:\n",
    "- Variables de instancia:\n",
    "    - `name`: nombre del plato.\n",
    "    - `price`: precio de venta del plato.\n",
    "    - `category`: categoría a la que pertenece el plato (`Platos Fuertes`, `Bebidas Calientes` o `Postres`)\n",
    "    - `description`: descripción del plato creado.\n",
    "- Métodos:\n",
    "    - Constructor: al crear el plato, se solicita el nombre del plato (`name`), precio (`price`),  categoría (`category`) y descripción (`description`). Crea los atributos como variables de instancia protegidas (`_x`)\n",
    "    - Getters y Setters: para las variables de instancia `_name`, `_price`, `_category` y `_description` (`get_name`, `get_price`, `get_category`, `get_description`, `set_name`, `set_price`, `set_category`, `set_description`). Los getters y los setters no deben retornar ningún valor. Los setters deben imprimir que el atributo en cuestión fue modificado/actualizado, indicando su valor anterior y su nuevo valor. Ejemplo: `Lasagna price updated from previuous_value to new_value`.\n",
    "    - Representación: al imprimir el plato, se muestra el nombre, descripción y precio de venta del plato en líneas de texto diferentes y consecutivas. Nota: Utiliza los getters."
   ]
  },
  {
   "cell_type": "code",
   "execution_count": 56,
   "id": "978dc797",
   "metadata": {},
   "outputs": [],
   "source": [
    "class Dish:\n",
    "    def __init__(self, name, price, category, description):\n",
    "        self._name = name\n",
    "        self._price = price\n",
    "        self._category = category\n",
    "        self._description = description\n",
    "\n",
    "    def get_name(self):\n",
    "        return self._name\n",
    "\n",
    "    def get_price(self):\n",
    "        return self._price\n",
    "\n",
    "    def get_category(self):\n",
    "        return self._category\n",
    "\n",
    "    def get_description(self):\n",
    "        return self._description\n",
    "\n",
    "    def set_name(self, new_name):\n",
    "        prev_name = self._name\n",
    "        self._name = new_name\n",
    "        print(f\"{self_name} name updated from {prev_name} to {new_name}.\")\n",
    "\n",
    "    def set_price(self, new_price):\n",
    "        prev_price = self._price\n",
    "        self._price = new_price\n",
    "        print(f\"{self._name} price updated from {prev_price} to {new_price}.\")\n",
    "\n",
    "    def set_category(self, new_category):\n",
    "        prev_category = self._category\n",
    "        self._category = new_category\n",
    "        print(f\"{self._name} category updated from {prev_category} to {new_category}.\")\n",
    "\n",
    "    def set_description(self, new_description):\n",
    "        prev_description = self._description\n",
    "        self._description += new_description\n",
    "        print(f\"{self._name} description updated from {prev_description}, {new_description}.\")\n",
    "        \n",
    "    def __repr__(self):\n",
    "        ptll_repr = f\"{'-'*30} \\nPlatillo:{self.get_name()}\\n\"\n",
    "        ptll_repr += f\"\\nDescripción:{self.get_description()}\\n\"\n",
    "        ptll_repr += f\"\\nPrecio: ${self.get_price()}\\n{'-'*30}\"\n",
    "        return (ptll_repr)\n",
    "   "
   ]
  },
  {
   "cell_type": "markdown",
   "id": "51616cf4",
   "metadata": {},
   "source": [
    "### Creación de Platos\n",
    "Crea las siguientes variables de clase Dish para representar los platos del nuevo menú de Michelangelo's: \n",
    "- `lasagna`\n",
    "- `risotto`\n",
    "- `macchiato`\n",
    "- `latte`\n",
    "- `cappuccino`\n",
    "- `espresso`\n",
    "- `panna_cotta`\n",
    "\n",
    "**Nota:** Utiliza _exactamente_ la información suministrada por Chocolove:"
   ]
  },
  {
   "cell_type": "code",
   "execution_count": 38,
   "id": "3c61b888",
   "metadata": {},
   "outputs": [
    {
     "name": "stdout",
     "output_type": "stream",
     "text": [
      "------------------------------ \n",
      "Platillo:Lasagna\n",
      "\n",
      "Descripción:Plato tradicional de la cocina italiana que se prepara con láminas de pasta superpuestas, rellenas de alguna salsa que usualmente contiene carne y queso.\n",
      "\n",
      "Precio: $29500\n",
      "------------------------------\n",
      "------------------------------ \n",
      "Platillo:Risotto\n",
      "\n",
      "Descripción:Plato cuyo ingrediente principal es el arroz, que se cocina mezclándolo con queso, generalmente parmesano, caldo y otros ingredientes; es un plato típico del norte de Italia.\n",
      "\n",
      "Precio: $35500\n",
      "------------------------------\n",
      "------------------------------ \n",
      "Platillo:Macchiato\n",
      "\n",
      "Descripción:Tipo de café hecho con espresso con un chorrito de leche espumosa al vapor.\n",
      "\n",
      "Precio: $15500\n",
      "------------------------------\n",
      "------------------------------ \n",
      "Platillo:Latte\n",
      "\n",
      "Descripción:Tipo de café hecho con espresso y leche caliente al vapor, con más leche que un Cappuccino.\n",
      "\n",
      "Precio: $16500\n",
      "------------------------------\n",
      "------------------------------ \n",
      "Platillo:Cappuccino\n",
      "\n",
      "Descripción:Tipo de café hecho con espresso y leche que ha sido espumada con vapor a presión.\n",
      "\n",
      "Precio: $17500\n",
      "------------------------------\n",
      "------------------------------ \n",
      "Platillo:Espresso\n",
      "\n",
      "Descripción:Tipo de café negro fuerte hecho forzando vapor a través de granos de café molidos.\n",
      "\n",
      "Precio: $18500\n",
      "------------------------------\n",
      "------------------------------ \n",
      "Platillo:Panna Cotta\n",
      "\n",
      "Descripción:Postre típico de la región italiana del Piamonte, elaborado a partir de crema de leche o nata, azúcar y gelificantes, que se suele adornar con mermeladas de frutas rojas. Recuerda al flan, pero su sabor es más lácteo con una textura más suave que el flan.\n",
      "\n",
      "Precio: $25500\n",
      "------------------------------\n"
     ]
    }
   ],
   "source": [
    "lasagna = Dish(\"Lasagna\", 29500, \"Platos Fuertes\", \"Plato tradicional de la cocina italiana que se prepara con láminas de pasta superpuestas, rellenas de alguna salsa que usualmente contiene carne y queso.\" )\n",
    "risotto = Dish(\"Risotto\",35500, \"Platos Fuertes\", \"Plato cuyo ingrediente principal es el arroz, que se cocina mezclándolo con queso, generalmente parmesano, caldo y otros ingredientes; es un plato típico del norte de Italia.\")\n",
    "macchiato = Dish(\"Macchiato\", 15500, \"Bebidas calientes\", \"Tipo de café hecho con espresso con un chorrito de leche espumosa al vapor.\")\n",
    "latte= Dish(\"Latte\", 16500, \"Bebidas calientes\" , \"Tipo de café hecho con espresso y leche caliente al vapor, con más leche que un Cappuccino.\")\n",
    "cappuccino= Dish(\"Cappuccino\",17500,\"Bebidaas calientes\",\"Tipo de café hecho con espresso y leche que ha sido espumada con vapor a presión.\")\n",
    "espresso= Dish(\"Espresso\", 18500, \"Postres\",\"Tipo de café negro fuerte hecho forzando vapor a través de granos de café molidos.\")\n",
    "panna_cotta= Dish(\"Panna Cotta\", 25500, \"Postres\",\"Postre típico de la región italiana del Piamonte, elaborado a partir de crema de leche o nata, azúcar y gelificantes, que se suele adornar con mermeladas de frutas rojas. Recuerda al flan, pero su sabor es más lácteo con una textura más suave que el flan.\")\n",
    "\n",
    "print (lasagna)\n",
    "print (risotto)\n",
    "print (macchiato)\n",
    "print (latte)\n",
    "print (cappuccino)\n",
    "print (espresso)\n",
    "print (panna_cotta)"
   ]
  },
  {
   "cell_type": "markdown",
   "id": "5775f656",
   "metadata": {},
   "source": [
    "### Modificación de Datos\n",
    "Durante su desarrollo, Chocolove lo llama para actualizar ciertos datos del menú que le suministró. \n",
    "Modifique los platos creados teniendo en cuenta la siguiente información:\n",
    "- El nuevo precio de la Lasagna es de `$ 30.500`.\n",
    "- El nuevo precio de la Panna Cotta es de `$ 28.000`.\n",
    "- La descripción del Macchiato debe añadir el texto `Nuestra versión incluye una leve fragancia a vainilla.` al final de la descripción original. \n",
    "- La categoría del Espresso es `Bebidas Calientes`."
   ]
  },
  {
   "cell_type": "code",
   "execution_count": 59,
   "id": "30244e7f",
   "metadata": {},
   "outputs": [
    {
     "name": "stdout",
     "output_type": "stream",
     "text": [
      "Lasagna price updated from 30500 to 30500.\n",
      "Panna Cotta price updated from 28000 to 28000.\n",
      "Macchiato description updated from Nuestra versión incluye una leve fragancia a vainilla to Nuestra versión incluye una leve fragancia a vainilla.\n",
      "Espresso category updated from Bebidas Calientes to Bebidas Calientes.\n"
     ]
    }
   ],
   "source": [
    "#Modificación\n",
    "\n",
    "#1\n",
    "\n",
    "lasagna.set_price(30500)\n",
    "#2\n",
    "panna_cotta.set_price(28000)\n",
    "#3\n",
    "macchiato.set_description(\"Nuestra versión incluye una leve fragancia a vainilla\")\n",
    "#4\n",
    "espresso.set_category(\"Bebidas Calientes\")"
   ]
  },
  {
   "cell_type": "markdown",
   "id": "8ca301a7",
   "metadata": {},
   "source": [
    "## Restaurante\n",
    "Se suministra un código parcial de una nueva clase llamada `Restaurant`. Complete el código teniendo en cuenta lo siguiente:\n",
    "- Al crear un nuevo restaurante, el usuario debe indicar un nombre (`name`), dueño (`owner`), dirección (`address`) y teléfono (`phone`) del restaurante. \n",
    "- Las variables de clase del restaurante deben ser protegidas (`_x`) y, además de los datos ingresados por el usuario debe incluir: un id autogenerado (`_id`), un diccionario para el menú (`_menu`), un diccionario para las ventas (`_sales`) y una lista para las categorías (`_categories`). **Nota:** No olvide incrementar la variable de clase cada vez que crea un nuevo restaurante.\n",
    "- Completa el método `calculate_sales` que calcula el valor total de las ventas registradas en el diccionario `_sales` de la clase restaurante."
   ]
  },
  {
   "cell_type": "code",
   "execution_count": 49,
   "id": "c9189c19",
   "metadata": {},
   "outputs": [],
   "source": [
    "class Restaurant():\n",
    "    restaurant_new_id = 1\n",
    "    \n",
    "    def __init__(self):\n",
    "        pass\n",
    "        \n",
    "    def add_to_menu(self, dish):\n",
    "        dish_name = dish.get_name()\n",
    "        if dish_name not in self._menu:\n",
    "            self._menu[dish_name] = dish\n",
    "            print(f\"Dish \\\"{dish_name}\\\" added to menu!\")\n",
    "        else:\n",
    "            print(f\"Dish \\\"{dish_name}\\\" already in the menu!\")\n",
    "            \n",
    "    def add_to_sales(self, date, dish):\n",
    "        if date not in self._sales:\n",
    "            self._sales[date] = [dish]\n",
    "        else:\n",
    "            self._sales[date].append(dish)\n",
    "            \n",
    "    def define_categories(self):\n",
    "        for dish in self._menu.keys():\n",
    "            category = self._menu[dish].get_category()\n",
    "            if category not in self._categories:\n",
    "                self._categories.append(category)\n",
    "\n",
    "    def show_menu(self):\n",
    "        self.define_categories()\n",
    "        print(f\"\\n{'-'*30} \\n{self._name} Menú: \")\n",
    "        for category in self._categories:\n",
    "            print(f\"> {category}\")\n",
    "            for dish in self._menu.keys():\n",
    "                if self._menu[dish].get_category() == category:\n",
    "                    print(self._menu[dish])            \n",
    "        print('-'*30)\n",
    "    \n",
    "    def show_sales(self):\n",
    "        print(f\"Sales of Restaruant: {self._name}\")\n",
    "        for date in self._sales.keys():\n",
    "            sales_date = 0\n",
    "            print(f\"{'-'*30} \\nDate: {date}\")\n",
    "            for dish in self._sales[date]:\n",
    "                print(f\"- {dish.get_name()}... ${dish.get_price()}\")\n",
    "                sales_date += dish.get_price()\n",
    "            print(f\"Total day: ${sales_date}\")\n",
    "    \n",
    "    def calculate_sales(self):\n",
    "        total = 0\n",
    "        # add your code here\n",
    "        print(f\"{'-'*30} \\nTotal sales: \\n${total} \\n{'-'*30}\")\n",
    "    \n",
    "    def __repr__(self):\n",
    "        restaurant_info = f\"\"\"\n",
    "{self._name}\n",
    "{self._address}\n",
    "{self._phone}\n",
    "{self._owner}\n",
    "        \"\"\"\n",
    "        return restaurant_info\n",
    "    "
   ]
  },
  {
   "cell_type": "markdown",
   "id": "753111ff",
   "metadata": {},
   "source": [
    "### Pruebas\n",
    "\n",
    "Ejecute la siguiente celda de código una vez finalizada las actividades previamente descritas para verificar que todo funciona correctamente. "
   ]
  },
  {
   "cell_type": "code",
   "execution_count": 50,
   "id": "d30fced8",
   "metadata": {},
   "outputs": [
    {
     "ename": "TypeError",
     "evalue": "__init__() takes 1 positional argument but 5 were given",
     "output_type": "error",
     "traceback": [
      "\u001b[1;31m---------------------------------------------------------------------------\u001b[0m",
      "\u001b[1;31mTypeError\u001b[0m                                 Traceback (most recent call last)",
      "\u001b[1;32m~\\AppData\\Local\\Temp\\ipykernel_3748\\468351121.py\u001b[0m in \u001b[0;36m<module>\u001b[1;34m\u001b[0m\n\u001b[1;32m----> 1\u001b[1;33m \u001b[0mmichelangelos\u001b[0m \u001b[1;33m=\u001b[0m \u001b[0mRestaurant\u001b[0m\u001b[1;33m(\u001b[0m\u001b[1;34m\"Michelangelo's\"\u001b[0m\u001b[1;33m,\u001b[0m \u001b[1;34m\"Chocolove McDonell\"\u001b[0m\u001b[1;33m,\u001b[0m \u001b[1;34m\"221B Baker Street\"\u001b[0m\u001b[1;33m,\u001b[0m \u001b[1;34m\"634-5789\"\u001b[0m\u001b[1;33m)\u001b[0m\u001b[1;33m\u001b[0m\u001b[1;33m\u001b[0m\u001b[0m\n\u001b[0m\u001b[0;32m      2\u001b[0m \u001b[0mprint\u001b[0m\u001b[1;33m(\u001b[0m\u001b[1;34mf\"\\n{'-'*30} \\nRestaurant's Info: \\n{michelangelos} \\n{'-'*30}\\n\"\u001b[0m\u001b[1;33m)\u001b[0m\u001b[1;33m\u001b[0m\u001b[1;33m\u001b[0m\u001b[0m\n\u001b[0;32m      3\u001b[0m \u001b[0mmichelangelos\u001b[0m\u001b[1;33m.\u001b[0m\u001b[0madd_to_menu\u001b[0m\u001b[1;33m(\u001b[0m\u001b[0mlasagna\u001b[0m\u001b[1;33m)\u001b[0m\u001b[1;33m\u001b[0m\u001b[1;33m\u001b[0m\u001b[0m\n\u001b[0;32m      4\u001b[0m \u001b[0mmichelangelos\u001b[0m\u001b[1;33m.\u001b[0m\u001b[0madd_to_menu\u001b[0m\u001b[1;33m(\u001b[0m\u001b[0mrisotto\u001b[0m\u001b[1;33m)\u001b[0m\u001b[1;33m\u001b[0m\u001b[1;33m\u001b[0m\u001b[0m\n\u001b[0;32m      5\u001b[0m \u001b[0mmichelangelos\u001b[0m\u001b[1;33m.\u001b[0m\u001b[0madd_to_menu\u001b[0m\u001b[1;33m(\u001b[0m\u001b[0mmacchiato\u001b[0m\u001b[1;33m)\u001b[0m\u001b[1;33m\u001b[0m\u001b[1;33m\u001b[0m\u001b[0m\n",
      "\u001b[1;31mTypeError\u001b[0m: __init__() takes 1 positional argument but 5 were given"
     ]
    }
   ],
   "source": [
    "michelangelos = Restaurant(\"Michelangelo's\", \"Chocolove McDonell\", \"221B Baker Street\", \"634-5789\")\n",
    "print(f\"\\n{'-'*30} \\nRestaurant's Info: \\n{michelangelos} \\n{'-'*30}\\n\")\n",
    "michelangelos.add_to_menu(lasagna)\n",
    "michelangelos.add_to_menu(risotto)\n",
    "michelangelos.add_to_menu(macchiato)\n",
    "michelangelos.add_to_menu(latte)\n",
    "michelangelos.add_to_menu(cappuccino)\n",
    "michelangelos.add_to_menu(espresso)\n",
    "michelangelos.add_to_menu(panna_cotta)\n",
    "michelangelos.show_menu()\n",
    "michelangelos.add_to_sales(\"2023/02/15\", latte)\n",
    "michelangelos.add_to_sales(\"2023/02/15\", lasagna)\n",
    "michelangelos.add_to_sales(\"2023/02/15\", macchiato)\n",
    "michelangelos.add_to_sales(\"2023/02/15\", macchiato)\n",
    "michelangelos.add_to_sales(\"2023/02/15\", espresso)\n",
    "michelangelos.add_to_sales(\"2023/02/15\", panna_cotta)\n",
    "michelangelos.add_to_sales(\"2023/02/15\", risotto)\n",
    "michelangelos.add_to_sales(\"2023/02/15\", risotto)\n",
    "michelangelos.add_to_sales(\"2023/02/15\", lasagna)\n",
    "michelangelos.add_to_sales(\"2023/02/15\", lasagna)\n",
    "michelangelos.add_to_sales(\"2023/02/15\", lasagna)\n",
    "michelangelos.add_to_sales(\"2023/02/15\", espresso)\n",
    "michelangelos.add_to_sales(\"2023/02/15\", cappuccino)\n",
    "michelangelos.add_to_sales(\"2023/02/16\", cappuccino)\n",
    "michelangelos.add_to_sales(\"2023/02/16\", latte)\n",
    "michelangelos.add_to_sales(\"2023/02/16\", espresso)\n",
    "michelangelos.add_to_sales(\"2023/02/16\", latte)\n",
    "michelangelos.add_to_sales(\"2023/02/16\", risotto)\n",
    "michelangelos.add_to_sales(\"2023/02/16\", risotto)\n",
    "michelangelos.add_to_sales(\"2023/02/16\", lasagna)\n",
    "michelangelos.add_to_sales(\"2023/02/16\", risotto)\n",
    "michelangelos.add_to_sales(\"2023/02/16\", lasagna)\n",
    "michelangelos.add_to_sales(\"2023/02/16\", panna_cotta)\n",
    "michelangelos.add_to_sales(\"2023/02/16\", cappuccino)\n",
    "michelangelos.add_to_sales(\"2023/02/16\", panna_cotta)\n",
    "michelangelos.show_sales()\n",
    "michelangelos.calculate_sales()"
   ]
  },
  {
   "cell_type": "code",
   "execution_count": null,
   "id": "ae5553d8",
   "metadata": {},
   "outputs": [],
   "source": []
  }
 ],
 "metadata": {
  "kernelspec": {
   "display_name": "Python 3 (ipykernel)",
   "language": "python",
   "name": "python3"
  },
  "language_info": {
   "codemirror_mode": {
    "name": "ipython",
    "version": 3
   },
   "file_extension": ".py",
   "mimetype": "text/x-python",
   "name": "python",
   "nbconvert_exporter": "python",
   "pygments_lexer": "ipython3",
   "version": "3.9.13"
  }
 },
 "nbformat": 4,
 "nbformat_minor": 5
}
